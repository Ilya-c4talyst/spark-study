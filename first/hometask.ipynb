{
 "cells": [
  {
   "cell_type": "code",
   "execution_count": 10,
   "metadata": {},
   "outputs": [],
   "source": [
    "from pyspark.sql import SparkSession\n",
    "from pyspark.sql.functions import lit, when, col"
   ]
  },
  {
   "cell_type": "code",
   "execution_count": 11,
   "metadata": {},
   "outputs": [],
   "source": [
    "ss = SparkSession.builder.appName(\"First\").getOrCreate()"
   ]
  },
  {
   "cell_type": "code",
   "execution_count": 12,
   "metadata": {},
   "outputs": [
    {
     "name": "stdout",
     "output_type": "stream",
     "text": [
      "+-----+---+----+\n",
      "| Name|Age|Mark|\n",
      "+-----+---+----+\n",
      "| Илья| 18|  95|\n",
      "| Иван| 17|  85|\n",
      "|Мария| 18|  63|\n",
      "|  Оля| 22|  53|\n",
      "|Алекс| 23|  43|\n",
      "+-----+---+----+\n",
      "\n"
     ]
    }
   ],
   "source": [
    "# 1. Создать DF с информацией о студентах\n",
    "values = [(\"Илья\", 18, 95), (\"Иван\", 17, 85), (\"Мария\", 18, 63), (\"Оля\", 22, 53), (\"Алекс\", 23, 43),]\n",
    "columns = [\"Name\", \"Age\", \"Mark\"]\n",
    "\n",
    "df = ss.createDataFrame(values, columns)\n",
    "\n",
    "df.show()"
   ]
  },
  {
   "cell_type": "code",
   "execution_count": 13,
   "metadata": {},
   "outputs": [
    {
     "name": "stdout",
     "output_type": "stream",
     "text": [
      "+-----+---+----+\n",
      "| Name|Age|Mark|\n",
      "+-----+---+----+\n",
      "| Илья| 18|  95|\n",
      "| Иван| 17|  85|\n",
      "|Мария| 18|  63|\n",
      "|  Оля| 22|  95|\n",
      "|Алекс| 20|  43|\n",
      "+-----+---+----+\n",
      "\n"
     ]
    }
   ],
   "source": [
    "# 2. Замена значений\n",
    "df = df.withColumn(\"Age\", when(col(\"Name\") == \"Алекс\", 20).otherwise(col(\"Age\")))\n",
    "df = df.withColumn(\"Mark\", when(col(\"Name\") == \"Оля\", 95).otherwise(col(\"Mark\")))\n",
    "\n",
    "df.show()"
   ]
  },
  {
   "cell_type": "code",
   "execution_count": 14,
   "metadata": {},
   "outputs": [
    {
     "name": "stdout",
     "output_type": "stream",
     "text": [
      "+-----+---+-------------------+\n",
      "| Name|Age|               Mark|\n",
      "+-----+---+-------------------+\n",
      "| Илья| 18|            Отлично|\n",
      "| Иван| 17|             Хорошо|\n",
      "|Мария| 18|  Удовлетворительно|\n",
      "|  Оля| 22|            Отлично|\n",
      "|Алекс| 20|Неудовлетворительно|\n",
      "+-----+---+-------------------+\n",
      "\n"
     ]
    }
   ],
   "source": [
    "# Задание 3: Условная замена\n",
    "# Используя метод when, замените оценки студентов:\n",
    "\n",
    "# Если оценка меньше 60 — замените на \"Неудовлетворительно\".\n",
    "# Если оценка от 60 до 80 — замените на \"Удовлетворительно\".\n",
    "# Если оценка от 81 до 90 — замените на \"Хорошо\".\n",
    "# Если оценка больше 90 — замените на \"Отлично\".\n",
    "\n",
    "df = df.withColumn(\n",
    "    \"Mark\",\n",
    "    when(col(\"Mark\") < 60, \"Неудовлетворительно\")\n",
    "    .when((col(\"Mark\") >= 60) & (col(\"Mark\") <= 80), \"Удовлетворительно\")\n",
    "    .when((col(\"Mark\") >= 81) & (col(\"Mark\") <= 90), \"Хорошо\")\n",
    "    .when(col(\"Mark\") > 90, \"Отлично\")\n",
    "\n",
    "    .otherwise(col(\"Mark\"))\n",
    ")\n",
    "df.show()"
   ]
  },
  {
   "cell_type": "code",
   "execution_count": 15,
   "metadata": {},
   "outputs": [
    {
     "name": "stdout",
     "output_type": "stream",
     "text": [
      "+-----+---+-------------------+\n",
      "| Name|Age|               Mark|\n",
      "+-----+---+-------------------+\n",
      "| Илья| 18|            Отлично|\n",
      "| Иван| 17|  Удовлетворительно|\n",
      "|Мария| 18|             Хорошо|\n",
      "|  Оля| 22|            Отлично|\n",
      "|Алекс| 20|Неудовлетворительно|\n",
      "+-----+---+-------------------+\n",
      "\n"
     ]
    }
   ],
   "source": [
    "# Задание 4: Поменять местами\n",
    "# Поменяйте местами оценки между студентами \"Иван\" и \"Мария\".\n",
    "df = df.withColumn(\n",
    "    \"Mark\",\n",
    "    when(col(\"Name\") == \"Иван\", df.filter(df[\"Name\"] == \"Мария\").select(\"Mark\").first().Mark)\n",
    "    .when(col(\"Name\") == \"Мария\", df.filter(df[\"Name\"] == \"Иван\").select(\"Mark\").first().Mark)\n",
    "\n",
    "    .otherwise(col(\"Mark\"))\n",
    ")\n",
    "\n",
    "df.show()"
   ]
  },
  {
   "cell_type": "code",
   "execution_count": 16,
   "metadata": {},
   "outputs": [
    {
     "name": "stdout",
     "output_type": "stream",
     "text": [
      "+-------------------+-----+\n",
      "|               Mark|count|\n",
      "+-------------------+-----+\n",
      "|            Отлично|    2|\n",
      "|  Удовлетворительно|    1|\n",
      "|             Хорошо|    1|\n",
      "|Неудовлетворительно|    1|\n",
      "+-------------------+-----+\n",
      "\n"
     ]
    }
   ],
   "source": [
    "# Задание 5: Вывод информации\n",
    "# Выведите DataFrame до и после всех замен.\n",
    "# Выведите количество студентов с каждой оценкой (например, \"Неудовлетворительно\", \"Удовлетворительно\", и т.д.).\n",
    "\n",
    "df_check = df.groupBy(\"Mark\").count()\n",
    "df_check.show()"
   ]
  },
  {
   "cell_type": "code",
   "execution_count": 17,
   "metadata": {},
   "outputs": [],
   "source": [
    "ss.stop()"
   ]
  }
 ],
 "metadata": {
  "kernelspec": {
   "display_name": "venv",
   "language": "python",
   "name": "python3"
  },
  "language_info": {
   "codemirror_mode": {
    "name": "ipython",
    "version": 3
   },
   "file_extension": ".py",
   "mimetype": "text/x-python",
   "name": "python",
   "nbconvert_exporter": "python",
   "pygments_lexer": "ipython3",
   "version": "3.12.7"
  }
 },
 "nbformat": 4,
 "nbformat_minor": 2
}
